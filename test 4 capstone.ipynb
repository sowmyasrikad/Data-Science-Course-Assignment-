{
    "cells": [
        {
            "metadata": {
                "collapsed": true
            },
            "cell_type": "markdown",
            "source": "\nBattle of Neighbourhoods - Week 1\n\nThis notebook consist of two parts.\n\n1 Introduction/Business Problem\n\n1.a Discussion of the business problem and the audience who would be interested in this project.\n\n2 Data Section\n\n2.a What data is used? 2.b Importing Libraries 2.c Credentials and Core location 2.d Search for hotel & restaurant within 1 KM 2.e Location of Hotels\n\n1. Introduction/Business Problem\n\nDiscussion of the business problem and the audience who would be interested in this project.\n\nSomething about the place - Hitech city,Hyderabad\n\nI am from Hyderabad,the most busy place, largest city of the Indian state of Telangana\n\nOpening of Hotel/Restaurant\n\nComing down to business problem,I would like to open a hotel/restaurant near Hitech city.As it is a famous spot,there is already lots of attention towards it.I know there will be many competitors in terms of hotel and restaurant.But keeping them in mind,i need to locate my hotel in place where more people are attracted and comfortable for a stay and a good meal.I want to bring foreign and local peoples attention towards my new hotel.I would like to flavour my retaurant recipe with Italian,American,typical south & north indian foods to grab their taste.\n\nThe challenge is to find a suitable location for opening a new hotel / restaurant attracted to all local and foreign people in the centre of all famous venues.\n\nExpected / Interested Audience: Most of the People near by who work in IT companies in surrounding areas can be expected to visit this hotel/Restaurant because as we see more people around who saves time,they rush to work. 90% of the people of them does that and rest of the people visit depending upon ratings, interest in that particular taste of food."
        },
        {
            "metadata": {},
            "cell_type": "markdown",
            "source": "2.Data section\n\n2.a What data is used?\n\nWe will be completely working on Foursquare data to explore and try to locate our new hotel where more venues like church, temples, beach, museums, memorials that are present nearby.\n\nHow will we be solving using this data?\n\nWe will looking for midpoint area of venues to locate our new hotel.Before that our major focus will be on all venues present in and around the core place of hitech city.\n\nJust a heads up on how many hotels are distributed now around Hitech City.We will perform some EDA on hotels & restaurants present in the particular spot.On furthur notebook we will use Foursquare data to determine other venues as well.\n\n2.b Importing Libraries"
        },
        {
            "metadata": {},
            "cell_type": "code",
            "source": "# Import libraries\nimport numpy as np # data in a vectorized manner manipulation\nimport pandas as pd # data analsysis\nimport requests # HTTP library\n!pip install beautifulsoup4\nfrom bs4 import BeautifulSoup # scraping library\n\nfrom pandas.io.json import json_normalize # tranform JSON file into a pandas dataframe\nimport json # JSON files manipulation\n\nfrom sklearn.cluster import KMeans # clustering algorithm\n\npd.set_option('display.max_columns', None)\npd.set_option('display.max_rows', None)\n\n# Matplotlib and associated plotting modules\nimport matplotlib.cm as cm\nimport matplotlib.colors as colors\nimport matplotlib.pyplot as plt\n\n!conda install -c conda-forge geopy --yes \nfrom geopy.geocoders import Nominatim\n\n!conda install -c conda-forge folium=0.5.0 --yes\nimport folium # map rendering library\n\nprint(\"Libraries loaded\")",
            "execution_count": 1,
            "outputs": [
                {
                    "output_type": "stream",
                    "text": "Requirement already satisfied: beautifulsoup4 in /opt/conda/envs/Python36/lib/python3.6/site-packages (4.7.1)\nRequirement already satisfied: soupsieve>=1.2 in /opt/conda/envs/Python36/lib/python3.6/site-packages (from beautifulsoup4) (1.7.1)\nSolving environment: done\n\n## Package Plan ##\n\n  environment location: /opt/conda/envs/Python36\n\n  added / updated specs: \n    - geopy\n\n\nThe following packages will be downloaded:\n\n    package                    |            build\n    ---------------------------|-----------------\n    openssl-1.1.1g             |       h516909a_0         2.1 MB  conda-forge\n    ca-certificates-2020.6.20  |       hecda079_0         145 KB  conda-forge\n    geopy-2.0.0                |     pyh9f0ad1d_0          63 KB  conda-forge\n    certifi-2020.6.20          |   py36h9f0ad1d_0         151 KB  conda-forge\n    geographiclib-1.50         |             py_0          34 KB  conda-forge\n    python_abi-3.6             |          1_cp36m           4 KB  conda-forge\n    ------------------------------------------------------------\n                                           Total:         2.5 MB\n\nThe following NEW packages will be INSTALLED:\n\n    geographiclib:   1.50-py_0          conda-forge\n    geopy:           2.0.0-pyh9f0ad1d_0 conda-forge\n    python_abi:      3.6-1_cp36m        conda-forge\n\nThe following packages will be UPDATED:\n\n    certifi:         2020.6.20-py36_0   anaconda    --> 2020.6.20-py36h9f0ad1d_0 conda-forge\n    openssl:         1.1.1g-h7b6447c_0  anaconda    --> 1.1.1g-h516909a_0        conda-forge\n\nThe following packages will be DOWNGRADED:\n\n    ca-certificates: 2020.6.24-0        anaconda    --> 2020.6.20-hecda079_0     conda-forge\n\n\nDownloading and Extracting Packages\nopenssl-1.1.1g       | 2.1 MB    | ##################################### | 100% \nca-certificates-2020 | 145 KB    | ##################################### | 100% \ngeopy-2.0.0          | 63 KB     | ##################################### | 100% \ncertifi-2020.6.20    | 151 KB    | ##################################### | 100% \ngeographiclib-1.50   | 34 KB     | ##################################### | 100% \npython_abi-3.6       | 4 KB      | ##################################### | 100% \nPreparing transaction: done\nVerifying transaction: done\nExecuting transaction: done\nSolving environment: done\n\n## Package Plan ##\n\n  environment location: /opt/conda/envs/Python36\n\n  added / updated specs: \n    - folium=0.5.0\n\n\nThe following packages will be downloaded:\n\n    package                    |            build\n    ---------------------------|-----------------\n    branca-0.4.1               |             py_0          26 KB  conda-forge\n    vincent-0.4.4              |             py_1          28 KB  conda-forge\n    altair-4.1.0               |             py_1         614 KB  conda-forge\n    folium-0.5.0               |             py_0          45 KB  conda-forge\n    ------------------------------------------------------------\n                                           Total:         713 KB\n\nThe following NEW packages will be INSTALLED:\n\n    altair:  4.1.0-py_1 conda-forge\n    branca:  0.4.1-py_0 conda-forge\n    folium:  0.5.0-py_0 conda-forge\n    vincent: 0.4.4-py_1 conda-forge\n\n\nDownloading and Extracting Packages\nbranca-0.4.1         | 26 KB     | ##################################### | 100% \nvincent-0.4.4        | 28 KB     | ##################################### | 100% \naltair-4.1.0         | 614 KB    | ##################################### | 100% \nfolium-0.5.0         | 45 KB     | ##################################### | 100% \nPreparing transaction: done\nVerifying transaction: done\nExecuting transaction: done\nLibraries loaded\n",
                    "name": "stdout"
                }
            ]
        },
        {
            "metadata": {},
            "cell_type": "markdown",
            "source": "\n2.c Credentials and Core location"
        },
        {
            "metadata": {},
            "cell_type": "code",
            "source": "\nCLIENT_ID = 'MXY3GFHWG2NTREYZ2NHIRPCZD1IQE5KALU3NQQPLNTF1IORV' # your Foursquare ID\nCLIENT_SECRET = '2ZC1ZM4AZCWHCK4HKDAARMAKEIIK2IRGS0PA1LITWEWHUORW ' # your Foursquare Secret\nVERSION = '20191028'\nLIMIT = 150\n\naddress = \"Hitech City , India\"\n\ngeolocator = Nominatim(user_agent=\"foursquare_agent\")\nlocation = geolocator.geocode(address)\nlatitude =location.latitude   #17.4435  # location.Latitude \nlongitude =location.longitude #78.3772  # location.longitude \n\nPlace='Hitech City location : {},{}'.format(latitude,longitude)\nprint(Place)",
            "execution_count": 2,
            "outputs": [
                {
                    "output_type": "stream",
                    "text": "Hitech City location : 17.4698143,78.3853779\n",
                    "name": "stdout"
                }
            ]
        },
        {
            "metadata": {},
            "cell_type": "markdown",
            "source": "2.d Search for hotel & restaurant within 1 KM"
        },
        {
            "metadata": {},
            "cell_type": "code",
            "source": "search_query = 'hotel'\nsearch_query_res = 'restaurant'\n\nradius = 1000\nurl_hotel = 'https://api.foursquare.com/v2/venues/search?client_id={}&client_secret={}&ll={},{}&v={}&query={}&radius={}&limit={}'.format(CLIENT_ID, CLIENT_SECRET, latitude, longitude, VERSION, search_query, radius, LIMIT)\nurl_restaurant = 'https://api.foursquare.com/v2/venues/search?client_id={}&client_secret={}&ll={},{}&v={}&query={}&radius={}&limit={}'.format(CLIENT_ID, CLIENT_SECRET, latitude, longitude, VERSION, search_query_res, radius, LIMIT)\n#url\n",
            "execution_count": 3,
            "outputs": []
        },
        {
            "metadata": {},
            "cell_type": "markdown",
            "source": "Send the GET Request of hotel & restaurants and examine the results"
        },
        {
            "metadata": {},
            "cell_type": "code",
            "source": "results_hotel = requests.get(url_hotel).json()\nresults_restaurant = requests.get(url_restaurant).json()\n#results_hotel",
            "execution_count": 4,
            "outputs": []
        },
        {
            "metadata": {},
            "cell_type": "markdown",
            "source": "Get relevant part of JSON and transform it into a pandas dataframe"
        },
        {
            "metadata": {},
            "cell_type": "code",
            "source": "\n# assign relevant part of JSON to venues\nvenues_hotel = results_hotel['response']['venues']\nvenues_restaurant = results_restaurant['response']['venues']\n\n# tranform venues into a dataframe and merging both data\ndataframe_hotel = json_normalize(venues_hotel)\ndataframe_restaurant = json_normalize(venues_restaurant)\n\ndataframe = pd.concat([dataframe_hotel,dataframe_restaurant])\n\nprint(\"There are {} restaurants and hotels at Hitech City\".format(dataframe.shape[0]))",
            "execution_count": 6,
            "outputs": [
                {
                    "output_type": "stream",
                    "text": "There are 3 restaurants and hotels at Hitech City\n",
                    "name": "stdout"
                },
                {
                    "output_type": "stream",
                    "text": "/opt/conda/envs/Python36/lib/python3.6/site-packages/ipykernel/__main__.py:10: FutureWarning: Sorting because non-concatenation axis is not aligned. A future version\nof pandas will change to not sort by default.\n\nTo accept the future behavior, pass 'sort=False'.\n\nTo retain the current behavior and silence the warning, pass 'sort=True'.\n\n",
                    "name": "stderr"
                }
            ]
        },
        {
            "metadata": {},
            "cell_type": "markdown",
            "source": "Define information of interest and filter dataframe"
        },
        {
            "metadata": {},
            "cell_type": "code",
            "source": "# keep only columns that include venue name, and anything that is associated with location\nfiltered_columns = ['name', 'categories'] + [col for col in dataframe.columns if col.startswith('location.')] + ['id']\ndataframe_filtered = dataframe.loc[:, filtered_columns]\n\n# function that extracts the category of the venue\n\ndef get_category_type(row):\n    try:\n        categories_list = row['categories']\n    except:\n        categories_list = row['venue.categories']\n        \n    if len(categories_list) == 0:\n        return None\n    else:\n        return categories_list[0]['name']\n\n    \n# filter the category for each row\ndataframe_filtered['categories'] = dataframe_filtered.apply(get_category_type, axis=1)\n\n  \n# clean column names by keeping only last term\ndataframe_filtered.columns = [column.split('.')[-1] for column in dataframe_filtered.columns]\n\n#dataframe_filtered\nhotels_df=dataframe_filtered[['name','categories','distance','lat','lng','id']]\nhotels_df.head()",
            "execution_count": 7,
            "outputs": [
                {
                    "output_type": "execute_result",
                    "execution_count": 7,
                    "data": {
                        "text/plain": "                      name         categories  distance        lat        lng  \\\n0      Hotel Siva Parvathi  Indian Restaurant       395  17.472008  78.388306   \n0  Messeleistro Restaurant         Restaurant       409  17.472739  78.383034   \n1    Fisher Men Restaurant         Restaurant       587  17.474392  78.388130   \n\n                         id  \n0  5222c44d498ea00643f64834  \n0  58e5f9a480e1af764824dda5  \n1  52fb989a498e8c5b1460a4b6  ",
                        "text/html": "<div>\n<style scoped>\n    .dataframe tbody tr th:only-of-type {\n        vertical-align: middle;\n    }\n\n    .dataframe tbody tr th {\n        vertical-align: top;\n    }\n\n    .dataframe thead th {\n        text-align: right;\n    }\n</style>\n<table border=\"1\" class=\"dataframe\">\n  <thead>\n    <tr style=\"text-align: right;\">\n      <th></th>\n      <th>name</th>\n      <th>categories</th>\n      <th>distance</th>\n      <th>lat</th>\n      <th>lng</th>\n      <th>id</th>\n    </tr>\n  </thead>\n  <tbody>\n    <tr>\n      <th>0</th>\n      <td>Hotel Siva Parvathi</td>\n      <td>Indian Restaurant</td>\n      <td>395</td>\n      <td>17.472008</td>\n      <td>78.388306</td>\n      <td>5222c44d498ea00643f64834</td>\n    </tr>\n    <tr>\n      <th>0</th>\n      <td>Messeleistro Restaurant</td>\n      <td>Restaurant</td>\n      <td>409</td>\n      <td>17.472739</td>\n      <td>78.383034</td>\n      <td>58e5f9a480e1af764824dda5</td>\n    </tr>\n    <tr>\n      <th>1</th>\n      <td>Fisher Men Restaurant</td>\n      <td>Restaurant</td>\n      <td>587</td>\n      <td>17.474392</td>\n      <td>78.388130</td>\n      <td>52fb989a498e8c5b1460a4b6</td>\n    </tr>\n  </tbody>\n</table>\n</div>"
                    },
                    "metadata": {}
                }
            ]
        },
        {
            "metadata": {
                "scrolled": true
            },
            "cell_type": "code",
            "source": "\nhotels_map = folium.Map(location=[latitude, longitude], zoom_start=16) # generate map centred around the Hitech city \n\n# add a red circle marker to represent the core location of Hitech city\nfolium.features.CircleMarker(\n    [latitude, longitude],\n    radius=10,\n    color='red',\n    popup='Hitech City',\n    fill = True,\n    fill_color = 'blue',\n    fill_opacity = 0.6\n).add_to(hotels_map)\n\n# add the Italian restaurants as blue circle markers\nfor lat, lng, label in zip(hotels_df.lat, hotels_df.lng, hotels_df.name):\n    folium.features.CircleMarker(\n        [lat, lng],\n        radius=5,\n        color='blue',\n        popup=label,\n        fill = True,\n        fill_color='green',\n        fill_opacity=0.6\n    ).add_to(hotels_map)\n\n# display map\nhotels_map",
            "execution_count": 8,
            "outputs": [
                {
                    "output_type": "execute_result",
                    "execution_count": 8,
                    "data": {
                        "text/plain": "<folium.folium.Map at 0x7f8b9eb51048>",
                        "text/html": "<div style=\"width:100%;\"><div style=\"position:relative;width:100%;height:0;padding-bottom:60%;\"><span style=\"color:#565656\">Make this Notebook Trusted to load map: File -> Trust Notebook</span><iframe src=\"about:blank\" style=\"position:absolute;width:100%;height:100%;left:0;top:0;border:none !important;\" data-html=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 onload=\"this.contentDocument.open();this.contentDocument.write(atob(this.getAttribute('data-html')));this.contentDocument.close();\" allowfullscreen webkitallowfullscreen mozallowfullscreen></iframe></div></div>"
                    },
                    "metadata": {}
                }
            ]
        },
        {
            "metadata": {},
            "cell_type": "code",
            "source": "",
            "execution_count": null,
            "outputs": []
        }
    ],
    "metadata": {
        "kernelspec": {
            "name": "python3",
            "display_name": "Python 3.6",
            "language": "python"
        },
        "language_info": {
            "name": "python",
            "version": "3.6.9",
            "mimetype": "text/x-python",
            "codemirror_mode": {
                "name": "ipython",
                "version": 3
            },
            "pygments_lexer": "ipython3",
            "nbconvert_exporter": "python",
            "file_extension": ".py"
        }
    },
    "nbformat": 4,
    "nbformat_minor": 1
}